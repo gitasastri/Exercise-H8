{
 "cells": [
  {
   "cell_type": "code",
   "execution_count": 1,
   "metadata": {},
   "outputs": [
    {
     "name": "stdout",
     "output_type": "stream",
     "text": [
      "1 \n",
      "1 1 \n",
      "1 1 1 \n",
      "1 1 1 1 \n",
      "1 1 1 1 1 \n",
      "1 1 1 1 1 1 \n",
      "1 1 1 1 1 1 1 \n",
      "1 1 1 1 1 1 1 1 \n",
      "1 1 1 1 1 1 1 1 1 \n",
      "\n",
      "\n"
     ]
    }
   ],
   "source": [
    "n = 9 \n",
    "for i in range(0, n):\n",
    "    for j in range(0, i+1):\n",
    "        print(\"1\", end=\" \")\n",
    "    print()\n",
    "\n",
    "print('\\n')"
   ]
  },
  {
   "cell_type": "code",
   "execution_count": 3,
   "metadata": {},
   "outputs": [
    {
     "name": "stdout",
     "output_type": "stream",
     "text": [
      "None\n"
     ]
    }
   ],
   "source": [
    "def isContainLowerUpperNumber(password):\n",
    "  isContainLower = False\n",
    "  isContainerUpper = False\n",
    "  isContainNumber = False\n",
    "  isContainSymbol = False\n",
    "\n",
    "  for char in [*password]:\n",
    "    if char.islower():\n",
    "      isContainLower = True\n",
    "\n",
    "    if char.isupper():\n",
    "      isContainerUpper = True\n",
    "\n",
    "    if char.isdigit():\n",
    "      isContainNumber = True\n",
    "\n",
    "    if char in ['$', '#', '@']:\n",
    "      isContainSymbol = True\n",
    "\n",
    "\n",
    "  if(isContainLower and isContainerUpper and isContainNumber and isContainSymbol and len(password) >= 6 and len(password) <= 16):\n",
    "    return None\n",
    "  else:\n",
    "    message = []\n",
    "    if not(isContainLower):\n",
    "      message.append('Harus mengandung a-z')\n",
    "\n",
    "    if not(isContainerUpper):\n",
    "      message.append('Harus mengandung A-Z')\n",
    "\n",
    "    if not(isContainNumber):\n",
    "      message.append('Harus mengandung 0-9')\n",
    "\n",
    "    if not(isContainSymbol):\n",
    "      message.append('Harus mengandung [$#@]')\n",
    "    return 'Password is Invalid ' + ', '.join(message)\n",
    "\n",
    "password = input('Silahkan input password: ')\n",
    "message = isContainLowerUpperNumber(password)\n",
    "print(message)"
   ]
  }
 ],
 "metadata": {
  "kernelspec": {
   "display_name": "base",
   "language": "python",
   "name": "python3"
  },
  "language_info": {
   "codemirror_mode": {
    "name": "ipython",
    "version": 3
   },
   "file_extension": ".py",
   "mimetype": "text/x-python",
   "name": "python",
   "nbconvert_exporter": "python",
   "pygments_lexer": "ipython3",
   "version": "3.9.18"
  }
 },
 "nbformat": 4,
 "nbformat_minor": 2
}
